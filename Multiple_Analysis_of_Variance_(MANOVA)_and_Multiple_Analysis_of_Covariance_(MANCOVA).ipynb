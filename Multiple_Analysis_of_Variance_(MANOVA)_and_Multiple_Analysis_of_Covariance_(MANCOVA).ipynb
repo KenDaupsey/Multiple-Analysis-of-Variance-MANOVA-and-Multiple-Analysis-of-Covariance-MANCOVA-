{
  "nbformat": 4,
  "nbformat_minor": 0,
  "metadata": {
    "colab": {
      "provenance": [],
      "authorship_tag": "ABX9TyM3dO3TTAsobY2ZikXdZ8D8",
      "include_colab_link": true
    },
    "kernelspec": {
      "name": "python3",
      "display_name": "Python 3"
    },
    "language_info": {
      "name": "python"
    }
  },
  "cells": [
    {
      "cell_type": "markdown",
      "metadata": {
        "id": "view-in-github",
        "colab_type": "text"
      },
      "source": [
        "<a href=\"https://colab.research.google.com/github/KenDaupsey/Multiple-Analysis-of-Variance-MANOVA-and-Multiple-Analysis-of-Covariance-MANCOVA-/blob/main/Multiple_Analysis_of_Variance_(MANOVA)_and_Multiple_Analysis_of_Covariance_(MANCOVA).ipynb\" target=\"_parent\"><img src=\"https://colab.research.google.com/assets/colab-badge.svg\" alt=\"Open In Colab\"/></a>"
      ]
    },
    {
      "cell_type": "markdown",
      "source": [
        "*** Multiple Analysis of Variance (MANOVA) and Multiple Analysis of Covariance (MANCOVA) ***"
      ],
      "metadata": {
        "id": "dDLYeZ2F0VJ3"
      }
    },
    {
      "cell_type": "markdown",
      "source": [
        "*** Multiple Analysis of Variance (MANOVA) ***"
      ],
      "metadata": {
        "id": "4YmSfwWg73yD"
      }
    },
    {
      "cell_type": "code",
      "execution_count": 1,
      "metadata": {
        "id": "Iasd-7sTBHt3"
      },
      "outputs": [],
      "source": [
        "### Import Necessary Libraries\n",
        "\n",
        "import pandas as pd\n",
        "import numpy as np\n",
        "import statsmodels.api as sm\n",
        "import matplotlib.pyplot as plt\n",
        "from sklearn.utils import shuffle"
      ]
    },
    {
      "cell_type": "code",
      "source": [
        "### Load Dataset and Examine First 5 Rows\n",
        "url= \"https://raw.githubusercontent.com/KenDaupsey/Multiple-Analysis-of-Variance-MANOVA-and-Multiple-Analysis-of-Covariance-MANCOVA-/main/hsb2%7Edata.csv\"\n",
        "df = pd.read_csv(url)\n",
        "df.head()"
      ],
      "metadata": {
        "colab": {
          "base_uri": "https://localhost:8080/",
          "height": 206
        },
        "id": "PfSkiWEJBTQk",
        "outputId": "a234fc06-bbff-4ef3-e673-e7770d311de2"
      },
      "execution_count": 10,
      "outputs": [
        {
          "output_type": "execute_result",
          "data": {
            "text/plain": [
              "    id  female   race     ses  schtyp      prog  read  write  math  science  \\\n",
              "0   70    male  white     low  public   general    57     52    41       47   \n",
              "1  121  female  white  middle  public  vocation    68     59    53       63   \n",
              "2   86    male  white    high  public   general    44     33    54       58   \n",
              "3  141    male  white    high  public  vocation    63     44    47       53   \n",
              "4  172    male  white  middle  public  academic    47     52    57       53   \n",
              "\n",
              "   socst  \n",
              "0     57  \n",
              "1     61  \n",
              "2     31  \n",
              "3     56  \n",
              "4     61  "
            ],
            "text/html": [
              "\n",
              "  <div id=\"df-f491d1c9-6f50-4b79-8c75-8e91b7d5c8f6\" class=\"colab-df-container\">\n",
              "    <div>\n",
              "<style scoped>\n",
              "    .dataframe tbody tr th:only-of-type {\n",
              "        vertical-align: middle;\n",
              "    }\n",
              "\n",
              "    .dataframe tbody tr th {\n",
              "        vertical-align: top;\n",
              "    }\n",
              "\n",
              "    .dataframe thead th {\n",
              "        text-align: right;\n",
              "    }\n",
              "</style>\n",
              "<table border=\"1\" class=\"dataframe\">\n",
              "  <thead>\n",
              "    <tr style=\"text-align: right;\">\n",
              "      <th></th>\n",
              "      <th>id</th>\n",
              "      <th>female</th>\n",
              "      <th>race</th>\n",
              "      <th>ses</th>\n",
              "      <th>schtyp</th>\n",
              "      <th>prog</th>\n",
              "      <th>read</th>\n",
              "      <th>write</th>\n",
              "      <th>math</th>\n",
              "      <th>science</th>\n",
              "      <th>socst</th>\n",
              "    </tr>\n",
              "  </thead>\n",
              "  <tbody>\n",
              "    <tr>\n",
              "      <th>0</th>\n",
              "      <td>70</td>\n",
              "      <td>male</td>\n",
              "      <td>white</td>\n",
              "      <td>low</td>\n",
              "      <td>public</td>\n",
              "      <td>general</td>\n",
              "      <td>57</td>\n",
              "      <td>52</td>\n",
              "      <td>41</td>\n",
              "      <td>47</td>\n",
              "      <td>57</td>\n",
              "    </tr>\n",
              "    <tr>\n",
              "      <th>1</th>\n",
              "      <td>121</td>\n",
              "      <td>female</td>\n",
              "      <td>white</td>\n",
              "      <td>middle</td>\n",
              "      <td>public</td>\n",
              "      <td>vocation</td>\n",
              "      <td>68</td>\n",
              "      <td>59</td>\n",
              "      <td>53</td>\n",
              "      <td>63</td>\n",
              "      <td>61</td>\n",
              "    </tr>\n",
              "    <tr>\n",
              "      <th>2</th>\n",
              "      <td>86</td>\n",
              "      <td>male</td>\n",
              "      <td>white</td>\n",
              "      <td>high</td>\n",
              "      <td>public</td>\n",
              "      <td>general</td>\n",
              "      <td>44</td>\n",
              "      <td>33</td>\n",
              "      <td>54</td>\n",
              "      <td>58</td>\n",
              "      <td>31</td>\n",
              "    </tr>\n",
              "    <tr>\n",
              "      <th>3</th>\n",
              "      <td>141</td>\n",
              "      <td>male</td>\n",
              "      <td>white</td>\n",
              "      <td>high</td>\n",
              "      <td>public</td>\n",
              "      <td>vocation</td>\n",
              "      <td>63</td>\n",
              "      <td>44</td>\n",
              "      <td>47</td>\n",
              "      <td>53</td>\n",
              "      <td>56</td>\n",
              "    </tr>\n",
              "    <tr>\n",
              "      <th>4</th>\n",
              "      <td>172</td>\n",
              "      <td>male</td>\n",
              "      <td>white</td>\n",
              "      <td>middle</td>\n",
              "      <td>public</td>\n",
              "      <td>academic</td>\n",
              "      <td>47</td>\n",
              "      <td>52</td>\n",
              "      <td>57</td>\n",
              "      <td>53</td>\n",
              "      <td>61</td>\n",
              "    </tr>\n",
              "  </tbody>\n",
              "</table>\n",
              "</div>\n",
              "    <div class=\"colab-df-buttons\">\n",
              "\n",
              "  <div class=\"colab-df-container\">\n",
              "    <button class=\"colab-df-convert\" onclick=\"convertToInteractive('df-f491d1c9-6f50-4b79-8c75-8e91b7d5c8f6')\"\n",
              "            title=\"Convert this dataframe to an interactive table.\"\n",
              "            style=\"display:none;\">\n",
              "\n",
              "  <svg xmlns=\"http://www.w3.org/2000/svg\" height=\"24px\" viewBox=\"0 -960 960 960\">\n",
              "    <path d=\"M120-120v-720h720v720H120Zm60-500h600v-160H180v160Zm220 220h160v-160H400v160Zm0 220h160v-160H400v160ZM180-400h160v-160H180v160Zm440 0h160v-160H620v160ZM180-180h160v-160H180v160Zm440 0h160v-160H620v160Z\"/>\n",
              "  </svg>\n",
              "    </button>\n",
              "\n",
              "  <style>\n",
              "    .colab-df-container {\n",
              "      display:flex;\n",
              "      gap: 12px;\n",
              "    }\n",
              "\n",
              "    .colab-df-convert {\n",
              "      background-color: #E8F0FE;\n",
              "      border: none;\n",
              "      border-radius: 50%;\n",
              "      cursor: pointer;\n",
              "      display: none;\n",
              "      fill: #1967D2;\n",
              "      height: 32px;\n",
              "      padding: 0 0 0 0;\n",
              "      width: 32px;\n",
              "    }\n",
              "\n",
              "    .colab-df-convert:hover {\n",
              "      background-color: #E2EBFA;\n",
              "      box-shadow: 0px 1px 2px rgba(60, 64, 67, 0.3), 0px 1px 3px 1px rgba(60, 64, 67, 0.15);\n",
              "      fill: #174EA6;\n",
              "    }\n",
              "\n",
              "    .colab-df-buttons div {\n",
              "      margin-bottom: 4px;\n",
              "    }\n",
              "\n",
              "    [theme=dark] .colab-df-convert {\n",
              "      background-color: #3B4455;\n",
              "      fill: #D2E3FC;\n",
              "    }\n",
              "\n",
              "    [theme=dark] .colab-df-convert:hover {\n",
              "      background-color: #434B5C;\n",
              "      box-shadow: 0px 1px 3px 1px rgba(0, 0, 0, 0.15);\n",
              "      filter: drop-shadow(0px 1px 2px rgba(0, 0, 0, 0.3));\n",
              "      fill: #FFFFFF;\n",
              "    }\n",
              "  </style>\n",
              "\n",
              "    <script>\n",
              "      const buttonEl =\n",
              "        document.querySelector('#df-f491d1c9-6f50-4b79-8c75-8e91b7d5c8f6 button.colab-df-convert');\n",
              "      buttonEl.style.display =\n",
              "        google.colab.kernel.accessAllowed ? 'block' : 'none';\n",
              "\n",
              "      async function convertToInteractive(key) {\n",
              "        const element = document.querySelector('#df-f491d1c9-6f50-4b79-8c75-8e91b7d5c8f6');\n",
              "        const dataTable =\n",
              "          await google.colab.kernel.invokeFunction('convertToInteractive',\n",
              "                                                    [key], {});\n",
              "        if (!dataTable) return;\n",
              "\n",
              "        const docLinkHtml = 'Like what you see? Visit the ' +\n",
              "          '<a target=\"_blank\" href=https://colab.research.google.com/notebooks/data_table.ipynb>data table notebook</a>'\n",
              "          + ' to learn more about interactive tables.';\n",
              "        element.innerHTML = '';\n",
              "        dataTable['output_type'] = 'display_data';\n",
              "        await google.colab.output.renderOutput(dataTable, element);\n",
              "        const docLink = document.createElement('div');\n",
              "        docLink.innerHTML = docLinkHtml;\n",
              "        element.appendChild(docLink);\n",
              "      }\n",
              "    </script>\n",
              "  </div>\n",
              "\n",
              "\n",
              "<div id=\"df-5b20e2b1-effb-417d-a849-3ed821514e79\">\n",
              "  <button class=\"colab-df-quickchart\" onclick=\"quickchart('df-5b20e2b1-effb-417d-a849-3ed821514e79')\"\n",
              "            title=\"Suggest charts\"\n",
              "            style=\"display:none;\">\n",
              "\n",
              "<svg xmlns=\"http://www.w3.org/2000/svg\" height=\"24px\"viewBox=\"0 0 24 24\"\n",
              "     width=\"24px\">\n",
              "    <g>\n",
              "        <path d=\"M19 3H5c-1.1 0-2 .9-2 2v14c0 1.1.9 2 2 2h14c1.1 0 2-.9 2-2V5c0-1.1-.9-2-2-2zM9 17H7v-7h2v7zm4 0h-2V7h2v10zm4 0h-2v-4h2v4z\"/>\n",
              "    </g>\n",
              "</svg>\n",
              "  </button>\n",
              "\n",
              "<style>\n",
              "  .colab-df-quickchart {\n",
              "      --bg-color: #E8F0FE;\n",
              "      --fill-color: #1967D2;\n",
              "      --hover-bg-color: #E2EBFA;\n",
              "      --hover-fill-color: #174EA6;\n",
              "      --disabled-fill-color: #AAA;\n",
              "      --disabled-bg-color: #DDD;\n",
              "  }\n",
              "\n",
              "  [theme=dark] .colab-df-quickchart {\n",
              "      --bg-color: #3B4455;\n",
              "      --fill-color: #D2E3FC;\n",
              "      --hover-bg-color: #434B5C;\n",
              "      --hover-fill-color: #FFFFFF;\n",
              "      --disabled-bg-color: #3B4455;\n",
              "      --disabled-fill-color: #666;\n",
              "  }\n",
              "\n",
              "  .colab-df-quickchart {\n",
              "    background-color: var(--bg-color);\n",
              "    border: none;\n",
              "    border-radius: 50%;\n",
              "    cursor: pointer;\n",
              "    display: none;\n",
              "    fill: var(--fill-color);\n",
              "    height: 32px;\n",
              "    padding: 0;\n",
              "    width: 32px;\n",
              "  }\n",
              "\n",
              "  .colab-df-quickchart:hover {\n",
              "    background-color: var(--hover-bg-color);\n",
              "    box-shadow: 0 1px 2px rgba(60, 64, 67, 0.3), 0 1px 3px 1px rgba(60, 64, 67, 0.15);\n",
              "    fill: var(--button-hover-fill-color);\n",
              "  }\n",
              "\n",
              "  .colab-df-quickchart-complete:disabled,\n",
              "  .colab-df-quickchart-complete:disabled:hover {\n",
              "    background-color: var(--disabled-bg-color);\n",
              "    fill: var(--disabled-fill-color);\n",
              "    box-shadow: none;\n",
              "  }\n",
              "\n",
              "  .colab-df-spinner {\n",
              "    border: 2px solid var(--fill-color);\n",
              "    border-color: transparent;\n",
              "    border-bottom-color: var(--fill-color);\n",
              "    animation:\n",
              "      spin 1s steps(1) infinite;\n",
              "  }\n",
              "\n",
              "  @keyframes spin {\n",
              "    0% {\n",
              "      border-color: transparent;\n",
              "      border-bottom-color: var(--fill-color);\n",
              "      border-left-color: var(--fill-color);\n",
              "    }\n",
              "    20% {\n",
              "      border-color: transparent;\n",
              "      border-left-color: var(--fill-color);\n",
              "      border-top-color: var(--fill-color);\n",
              "    }\n",
              "    30% {\n",
              "      border-color: transparent;\n",
              "      border-left-color: var(--fill-color);\n",
              "      border-top-color: var(--fill-color);\n",
              "      border-right-color: var(--fill-color);\n",
              "    }\n",
              "    40% {\n",
              "      border-color: transparent;\n",
              "      border-right-color: var(--fill-color);\n",
              "      border-top-color: var(--fill-color);\n",
              "    }\n",
              "    60% {\n",
              "      border-color: transparent;\n",
              "      border-right-color: var(--fill-color);\n",
              "    }\n",
              "    80% {\n",
              "      border-color: transparent;\n",
              "      border-right-color: var(--fill-color);\n",
              "      border-bottom-color: var(--fill-color);\n",
              "    }\n",
              "    90% {\n",
              "      border-color: transparent;\n",
              "      border-bottom-color: var(--fill-color);\n",
              "    }\n",
              "  }\n",
              "</style>\n",
              "\n",
              "  <script>\n",
              "    async function quickchart(key) {\n",
              "      const quickchartButtonEl =\n",
              "        document.querySelector('#' + key + ' button');\n",
              "      quickchartButtonEl.disabled = true;  // To prevent multiple clicks.\n",
              "      quickchartButtonEl.classList.add('colab-df-spinner');\n",
              "      try {\n",
              "        const charts = await google.colab.kernel.invokeFunction(\n",
              "            'suggestCharts', [key], {});\n",
              "      } catch (error) {\n",
              "        console.error('Error during call to suggestCharts:', error);\n",
              "      }\n",
              "      quickchartButtonEl.classList.remove('colab-df-spinner');\n",
              "      quickchartButtonEl.classList.add('colab-df-quickchart-complete');\n",
              "    }\n",
              "    (() => {\n",
              "      let quickchartButtonEl =\n",
              "        document.querySelector('#df-5b20e2b1-effb-417d-a849-3ed821514e79 button');\n",
              "      quickchartButtonEl.style.display =\n",
              "        google.colab.kernel.accessAllowed ? 'block' : 'none';\n",
              "    })();\n",
              "  </script>\n",
              "</div>\n",
              "\n",
              "    </div>\n",
              "  </div>\n"
            ],
            "application/vnd.google.colaboratory.intrinsic+json": {
              "type": "dataframe",
              "variable_name": "df",
              "summary": "{\n  \"name\": \"df\",\n  \"rows\": 200,\n  \"fields\": [\n    {\n      \"column\": \"id\",\n      \"properties\": {\n        \"dtype\": \"number\",\n        \"std\": 57,\n        \"min\": 1,\n        \"max\": 200,\n        \"num_unique_values\": 200,\n        \"samples\": [\n          173,\n          115,\n          126\n        ],\n        \"semantic_type\": \"\",\n        \"description\": \"\"\n      }\n    },\n    {\n      \"column\": \"female\",\n      \"properties\": {\n        \"dtype\": \"category\",\n        \"num_unique_values\": 2,\n        \"samples\": [\n          \"female\",\n          \"male\"\n        ],\n        \"semantic_type\": \"\",\n        \"description\": \"\"\n      }\n    },\n    {\n      \"column\": \"race\",\n      \"properties\": {\n        \"dtype\": \"category\",\n        \"num_unique_values\": 4,\n        \"samples\": [\n          \"african-amer\",\n          \"asian\"\n        ],\n        \"semantic_type\": \"\",\n        \"description\": \"\"\n      }\n    },\n    {\n      \"column\": \"ses\",\n      \"properties\": {\n        \"dtype\": \"category\",\n        \"num_unique_values\": 3,\n        \"samples\": [\n          \"low\",\n          \"middle\"\n        ],\n        \"semantic_type\": \"\",\n        \"description\": \"\"\n      }\n    },\n    {\n      \"column\": \"schtyp\",\n      \"properties\": {\n        \"dtype\": \"category\",\n        \"num_unique_values\": 2,\n        \"samples\": [\n          \"private\",\n          \"public\"\n        ],\n        \"semantic_type\": \"\",\n        \"description\": \"\"\n      }\n    },\n    {\n      \"column\": \"prog\",\n      \"properties\": {\n        \"dtype\": \"category\",\n        \"num_unique_values\": 3,\n        \"samples\": [\n          \"general\",\n          \"vocation\"\n        ],\n        \"semantic_type\": \"\",\n        \"description\": \"\"\n      }\n    },\n    {\n      \"column\": \"read\",\n      \"properties\": {\n        \"dtype\": \"number\",\n        \"std\": 10,\n        \"min\": 28,\n        \"max\": 76,\n        \"num_unique_values\": 30,\n        \"samples\": [\n          46,\n          52\n        ],\n        \"semantic_type\": \"\",\n        \"description\": \"\"\n      }\n    },\n    {\n      \"column\": \"write\",\n      \"properties\": {\n        \"dtype\": \"number\",\n        \"std\": 9,\n        \"min\": 31,\n        \"max\": 67,\n        \"num_unique_values\": 29,\n        \"samples\": [\n          50,\n          67\n        ],\n        \"semantic_type\": \"\",\n        \"description\": \"\"\n      }\n    },\n    {\n      \"column\": \"math\",\n      \"properties\": {\n        \"dtype\": \"number\",\n        \"std\": 9,\n        \"min\": 33,\n        \"max\": 75,\n        \"num_unique_values\": 40,\n        \"samples\": [\n          64,\n          46\n        ],\n        \"semantic_type\": \"\",\n        \"description\": \"\"\n      }\n    },\n    {\n      \"column\": \"science\",\n      \"properties\": {\n        \"dtype\": \"number\",\n        \"std\": 9,\n        \"min\": 26,\n        \"max\": 74,\n        \"num_unique_values\": 34,\n        \"samples\": [\n          49,\n          56\n        ],\n        \"semantic_type\": \"\",\n        \"description\": \"\"\n      }\n    },\n    {\n      \"column\": \"socst\",\n      \"properties\": {\n        \"dtype\": \"number\",\n        \"std\": 10,\n        \"min\": 26,\n        \"max\": 71,\n        \"num_unique_values\": 22,\n        \"samples\": [\n          57,\n          26\n        ],\n        \"semantic_type\": \"\",\n        \"description\": \"\"\n      }\n    }\n  ]\n}"
            }
          },
          "metadata": {},
          "execution_count": 10
        }
      ]
    },
    {
      "cell_type": "code",
      "source": [
        "df.columns"
      ],
      "metadata": {
        "colab": {
          "base_uri": "https://localhost:8080/"
        },
        "id": "MU-lCLa40nlm",
        "outputId": "09fdd27f-87ce-4b1b-bb24-92dc27bdac7a"
      },
      "execution_count": 11,
      "outputs": [
        {
          "output_type": "execute_result",
          "data": {
            "text/plain": [
              "Index(['id', 'female', 'race', 'ses', 'schtyp', 'prog', 'read', 'write',\n",
              "       'math', 'science', 'socst'],\n",
              "      dtype='object')"
            ]
          },
          "metadata": {},
          "execution_count": 11
        }
      ]
    },
    {
      "cell_type": "code",
      "source": [
        "df.info()"
      ],
      "metadata": {
        "colab": {
          "base_uri": "https://localhost:8080/"
        },
        "id": "5-M0fhMl2CI9",
        "outputId": "5ded2795-5c43-457f-ff38-48706227a513"
      },
      "execution_count": 12,
      "outputs": [
        {
          "output_type": "stream",
          "name": "stdout",
          "text": [
            "<class 'pandas.core.frame.DataFrame'>\n",
            "RangeIndex: 200 entries, 0 to 199\n",
            "Data columns (total 11 columns):\n",
            " #   Column   Non-Null Count  Dtype \n",
            "---  ------   --------------  ----- \n",
            " 0   id       200 non-null    int64 \n",
            " 1   female   200 non-null    object\n",
            " 2   race     200 non-null    object\n",
            " 3   ses      200 non-null    object\n",
            " 4   schtyp   200 non-null    object\n",
            " 5   prog     200 non-null    object\n",
            " 6   read     200 non-null    int64 \n",
            " 7   write    200 non-null    int64 \n",
            " 8   math     200 non-null    int64 \n",
            " 9   science  200 non-null    int64 \n",
            " 10  socst    200 non-null    int64 \n",
            "dtypes: int64(6), object(5)\n",
            "memory usage: 17.3+ KB\n"
          ]
        }
      ]
    },
    {
      "cell_type": "code",
      "source": [
        "### One-way MANOVA\n",
        "import statsmodels.api as sm\n",
        "from statsmodels.multivariate.manova import MANOVA\n",
        "\n",
        "# Assuming df is your DataFrame\n",
        "manova_data = df[['read', 'write', 'math', 'prog']]\n",
        "\n",
        "# Fit MANOVA model\n",
        "maov = MANOVA.from_formula('read + write + math ~ prog', data=manova_data)\n",
        "result = maov.mv_test()\n",
        "\n",
        "# Print the MANOVA results\n",
        "print(result.summary())"
      ],
      "metadata": {
        "colab": {
          "base_uri": "https://localhost:8080/"
        },
        "id": "fWC5uLPn2Dyj",
        "outputId": "0c8938c3-bd6c-4076-85c0-f78f61757800"
      },
      "execution_count": 13,
      "outputs": [
        {
          "output_type": "stream",
          "name": "stdout",
          "text": [
            "                   Multivariate linear model\n",
            "================================================================\n",
            "                                                                \n",
            "----------------------------------------------------------------\n",
            "       Intercept         Value  Num DF  Den DF   F Value  Pr > F\n",
            "----------------------------------------------------------------\n",
            "          Wilks' lambda  0.0297 3.0000 195.0000 2120.5059 0.0000\n",
            "         Pillai's trace  0.9703 3.0000 195.0000 2120.5059 0.0000\n",
            " Hotelling-Lawley trace 32.6232 3.0000 195.0000 2120.5059 0.0000\n",
            "    Roy's greatest root 32.6232 3.0000 195.0000 2120.5059 0.0000\n",
            "----------------------------------------------------------------\n",
            "                                                                \n",
            "----------------------------------------------------------------\n",
            "             prog          Value  Num DF  Den DF  F Value Pr > F\n",
            "----------------------------------------------------------------\n",
            "             Wilks' lambda 0.7340 6.0000 390.0000 10.8705 0.0000\n",
            "            Pillai's trace 0.2672 6.0000 392.0000 10.0750 0.0000\n",
            "    Hotelling-Lawley trace 0.3608 6.0000 258.2298 11.6972 0.0000\n",
            "       Roy's greatest root 0.3563 3.0000 196.0000 23.2772 0.0000\n",
            "================================================================\n",
            "\n"
          ]
        }
      ]
    },
    {
      "cell_type": "code",
      "source": [
        "### Visualizing Student Performance Trends by Program Using Seaborn\n",
        "import pandas as pd\n",
        "import seaborn as sns\n",
        "import matplotlib.pyplot as plt\n",
        "\n",
        "# Assuming df is your DataFrame\n",
        "# If it's not already installed, you can install seaborn using !pip install seaborn\n",
        "\n",
        "# Create a boxplot for \"read\" by \"prog\"\n",
        "plt.figure(figsize=(10, 6))\n",
        "sns.boxplot(x=\"prog\", y=\"read\", data=df, palette=\"Set3\", hue=\"prog\", legend=False)\n",
        "plt.title(\"Boxplot of Read Scores by Program\")\n",
        "plt.xlabel(\"Program\")\n",
        "plt.ylabel(\"Read Scores\")\n",
        "plt.show()"
      ],
      "metadata": {
        "colab": {
          "base_uri": "https://localhost:8080/",
          "height": 564
        },
        "id": "EejzEC7W2XzR",
        "outputId": "3d5e6db2-fc33-417f-e82b-1653cb99280d"
      },
      "execution_count": 18,
      "outputs": [
        {
          "output_type": "display_data",
          "data": {
            "text/plain": [
              "<Figure size 1000x600 with 1 Axes>"
            ],
            "image/png": "[encoded data removed]"
          },
          "metadata": {}
        }
      ]
    },
    {
      "cell_type": "code",
      "source": [
        "### Analyzing Student Performance Variation in Writing by Program Using Matplotlib\n",
        "# Group by \"prog\" and create a list of \"read\" values for each group\n",
        "data_by_prog = [df[df['prog'] == program]['write'].dropna().tolist() for program in df['prog'].unique()]\n",
        "\n",
        "# Create a boxplot\n",
        "plt.figure(figsize=(10, 6))\n",
        "plt.boxplot(data_by_prog, labels=df['prog'].unique(), patch_artist=True)\n",
        "plt.title(\"Boxplot of Write Scores by Program\")\n",
        "plt.xlabel(\"Program\")\n",
        "plt.ylabel(\"Write Scores\")\n",
        "plt.show()"
      ],
      "metadata": {
        "colab": {
          "base_uri": "https://localhost:8080/",
          "height": 564
        },
        "id": "S4Dy7lrS4ytA",
        "outputId": "07253349-e1fd-4127-ee8b-95c16101e468"
      },
      "execution_count": 15,
      "outputs": [
        {
          "output_type": "display_data",
          "data": {
            "text/plain": [
              "<Figure size 1000x600 with 1 Axes>"
            ],
            "image/png": "[encoded data removed]"
          },
          "metadata": {}
        }
      ]
    },
    {
      "cell_type": "code",
      "source": [
        "### Exploring Math Performance Across Programs Using Plotly\n",
        "import plotly.express as px\n",
        "import pandas as pd\n",
        "\n",
        "# Assuming df is your DataFrame\n",
        "\n",
        "# Create a boxplot with Plotly Express\n",
        "fig = px.box(df, x=\"prog\", y=\"math\", color=\"prog\", points=\"all\", title=\"Boxplot of Math Scores by Program\")\n",
        "fig.update_layout(xaxis_title=\"Program\", yaxis_title=\"Math Scores\")\n",
        "fig.show()"
      ],
      "metadata": {
        "colab": {
          "base_uri": "https://localhost:8080/",
          "height": 542
        },
        "id": "6cRBcW5c5i1y",
        "outputId": "7a8cabac-ef12-42ad-db6f-364415778f6d"
      },
      "execution_count": 16,
      "outputs": [
        {
          "output_type": "display_data",
          "data": {
            "text/html": [
              "<html>\n",
              "<head><meta charset=\"utf-8\" /></head>\n",
              "<body>\n",
              "    <div>            <script src=\"https://cdnjs.cloudflare.com/ajax/libs/mathjax/2.7.5/MathJax.js?config=TeX-AMS-MML_SVG\"></script><script type=\"text/javascript\">if (window.MathJax && window.MathJax.Hub && window.MathJax.Hub.Config) {window.MathJax.Hub.Config({SVG: {font: \"STIX-Web\"}});}</script>                <script type=\"text/javascript\">window.PlotlyConfig = {MathJaxConfig: 'local'};</script>\n",
              "        <script charset=\"utf-8\" src=\"https://cdn.plot.ly/plotly-2.24.1.min.js\"></script>                <div id=\"49b2def5-9385-4255-9d73-f1ae94ee62f3\" class=\"plotly-graph-div\" style=\"height:525px; width:100%;\"></div>            <script type=\"text/javascript\">                                    window.PLOTLYENV=window.PLOTLYENV || {};                                    if (document.getElementById(\"49b2def5-9385-4255-9d73-f1ae94ee62f3\")) {                    Plotly.newPlot(                        \"49b2def5-9385-4255-9d73-f1ae94ee62f3\",                        [{\"alignmentgroup\":\"True\",\"boxpoints\":\"all\",\"hovertemplate\":\"prog=%{x}\\u003cbr\\u003emath=%{y}\\u003cextra\\u003e\\u003c\\u002fextra\\u003e\",\"legendgroup\":\"general\",\"marker\":{\"color\":\"#636efa\"},\"name\":\"general\",\"notched\":false,\"offsetgroup\":\"general\",\"orientation\":\"v\",\"showlegend\":true,\"x\":[\"general\",\"general\",\"general\",\"general\",\"general\",\"general\",\"general\",\"general\",\"general\",\"general\",\"general\",\"general\",\"general\",\"general\",\"general\",\"general\",\"general\",\"general\",\"general\",\"general\",\"general\",\"general\",\"general\",\"general\",\"general\",\"general\",\"general\",\"general\",\"general\",\"general\",\"general\",\"general\",\"general\",\"general\",\"general\",\"general\",\"general\",\"general\",\"general\",\"general\",\"general\",\"general\",\"general\",\"general\",\"general\"],\"x0\":\" \",\"xaxis\":\"x\",\"y\":[41,54,42,54,43,60,57,35,49,57,58,43,48,63,61,39,41,46,58,56,49,46,61,56,46,55,50,46,54,43,49,56,42,39,45,42,44,60,57,55,42,42,52,57,58],\"y0\":\" \",\"yaxis\":\"y\",\"type\":\"box\"},{\"alignmentgroup\":\"True\",\"boxpoints\":\"all\",\"hovertemplate\":\"prog=%{x}\\u003cbr\\u003emath=%{y}\\u003cextra\\u003e\\u003c\\u002fextra\\u003e\",\"legendgroup\":\"vocation\",\"marker\":{\"color\":\"#EF553B\"},\"name\":\"vocation\",\"notched\":false,\"offsetgroup\":\"vocation\",\"orientation\":\"v\",\"showlegend\":true,\"x\":[\"vocation\",\"vocation\",\"vocation\",\"vocation\",\"vocation\",\"vocation\",\"vocation\",\"vocation\",\"vocation\",\"vocation\",\"vocation\",\"vocation\",\"vocation\",\"vocation\",\"vocation\",\"vocation\",\"vocation\",\"vocation\",\"vocation\",\"vocation\",\"vocation\",\"vocation\",\"vocation\",\"vocation\",\"vocation\",\"vocation\",\"vocation\",\"vocation\",\"vocation\",\"vocation\",\"vocation\",\"vocation\",\"vocation\",\"vocation\",\"vocation\",\"vocation\",\"vocation\",\"vocation\",\"vocation\",\"vocation\",\"vocation\",\"vocation\",\"vocation\",\"vocation\",\"vocation\",\"vocation\",\"vocation\",\"vocation\",\"vocation\",\"vocation\"],\"x0\":\" \",\"xaxis\":\"x\",\"y\":[53,47,51,75,45,46,57,57,44,40,39,44,42,39,52,40,47,49,46,46,54,40,39,40,40,40,40,37,40,52,45,56,41,56,47,55,33,52,41,40,50,51,40,51,39,45,66,41,53,38],\"y0\":\" \",\"yaxis\":\"y\",\"type\":\"box\"},{\"alignmentgroup\":\"True\",\"boxpoints\":\"all\",\"hovertemplate\":\"prog=%{x}\\u003cbr\\u003emath=%{y}\\u003cextra\\u003e\\u003c\\u002fextra\\u003e\",\"legendgroup\":\"academic\",\"marker\":{\"color\":\"#00cc96\"},\"name\":\"academic\",\"notched\":false,\"offsetgroup\":\"academic\",\"orientation\":\"v\",\"showlegend\":true,\"x\":[\"academic\",\"academic\",\"academic\",\"academic\",\"academic\",\"academic\",\"academic\",\"academic\",\"academic\",\"academic\",\"academic\",\"academic\",\"academic\",\"academic\",\"academic\",\"academic\",\"academic\",\"academic\",\"academic\",\"academic\",\"academic\",\"academic\",\"academic\",\"academic\",\"academic\",\"academic\",\"academic\",\"academic\",\"academic\",\"academic\",\"academic\",\"academic\",\"academic\",\"academic\",\"academic\",\"academic\",\"academic\",\"academic\",\"academic\",\"academic\",\"academic\",\"academic\",\"academic\",\"academic\",\"academic\",\"academic\",\"academic\",\"academic\",\"academic\",\"academic\",\"academic\",\"academic\",\"academic\",\"academic\",\"academic\",\"academic\",\"academic\",\"academic\",\"academic\",\"academic\",\"academic\",\"academic\",\"academic\",\"academic\",\"academic\",\"academic\",\"academic\",\"academic\",\"academic\",\"academic\",\"academic\",\"academic\",\"academic\",\"academic\",\"academic\",\"academic\",\"academic\",\"academic\",\"academic\",\"academic\",\"academic\",\"academic\",\"academic\",\"academic\",\"academic\",\"academic\",\"academic\",\"academic\",\"academic\",\"academic\",\"academic\",\"academic\",\"academic\",\"academic\",\"academic\",\"academic\",\"academic\",\"academic\",\"academic\",\"academic\",\"academic\",\"academic\",\"academic\",\"academic\",\"academic\"],\"x0\":\" \",\"xaxis\":\"x\",\"y\":[57,51,45,52,51,71,57,50,51,62,45,57,66,49,64,63,50,75,68,41,62,57,70,63,59,61,38,49,73,55,45,61,50,60,59,58,71,43,54,54,57,71,48,64,51,61,66,65,52,72,71,69,64,49,54,53,66,67,69,41,57,58,57,62,64,53,56,45,54,72,49,60,54,49,50,48,58,43,43,46,44,43,61,61,67,53,50,51,72,48,53,63,62,65,63,54,49,48,55,64,56,53,42,60,65],\"y0\":\" \",\"yaxis\":\"y\",\"type\":\"box\"}],                        {\"template\":{\"data\":{\"histogram2dcontour\":[{\"type\":\"histogram2dcontour\",\"colorbar\":{\"outlinewidth\":0,\"ticks\":\"\"},\"colorscale\":[[0.0,\"#0d0887\"],[0.1111111111111111,\"#46039f\"],[0.2222222222222222,\"#7201a8\"],[0.3333333333333333,\"#9c179e\"],[0.4444444444444444,\"#bd3786\"],[0.5555555555555556,\"#d8576b\"],[0.6666666666666666,\"#ed7953\"],[0.7777777777777778,\"#fb9f3a\"],[0.8888888888888888,\"#fdca26\"],[1.0,\"#f0f921\"]]}],\"choropleth\":[{\"type\":\"choropleth\",\"colorbar\":{\"outlinewidth\":0,\"ticks\":\"\"}}],\"histogram2d\":[{\"type\":\"histogram2d\",\"colorbar\":{\"outlinewidth\":0,\"ticks\":\"\"},\"colorscale\":[[0.0,\"#0d0887\"],[0.1111111111111111,\"#46039f\"],[0.2222222222222222,\"#7201a8\"],[0.3333333333333333,\"#9c179e\"],[0.4444444444444444,\"#bd3786\"],[0.5555555555555556,\"#d8576b\"],[0.6666666666666666,\"#ed7953\"],[0.7777777777777778,\"#fb9f3a\"],[0.8888888888888888,\"#fdca26\"],[1.0,\"#f0f921\"]]}],\"heatmap\":[{\"type\":\"heatmap\",\"colorbar\":{\"outlinewidth\":0,\"ticks\":\"\"},\"colorscale\":[[0.0,\"#0d0887\"],[0.1111111111111111,\"#46039f\"],[0.2222222222222222,\"#7201a8\"],[0.3333333333333333,\"#9c179e\"],[0.4444444444444444,\"#bd3786\"],[0.5555555555555556,\"#d8576b\"],[0.6666666666666666,\"#ed7953\"],[0.7777777777777778,\"#fb9f3a\"],[0.8888888888888888,\"#fdca26\"],[1.0,\"#f0f921\"]]}],\"heatmapgl\":[{\"type\":\"heatmapgl\",\"colorbar\":{\"outlinewidth\":0,\"ticks\":\"\"},\"colorscale\":[[0.0,\"#0d0887\"],[0.1111111111111111,\"#46039f\"],[0.2222222222222222,\"#7201a8\"],[0.3333333333333333,\"#9c179e\"],[0.4444444444444444,\"#bd3786\"],[0.5555555555555556,\"#d8576b\"],[0.6666666666666666,\"#ed7953\"],[0.7777777777777778,\"#fb9f3a\"],[0.8888888888888888,\"#fdca26\"],[1.0,\"#f0f921\"]]}],\"contourcarpet\":[{\"type\":\"contourcarpet\",\"colorbar\":{\"outlinewidth\":0,\"ticks\":\"\"}}],\"contour\":[{\"type\":\"contour\",\"colorbar\":{\"outlinewidth\":0,\"ticks\":\"\"},\"colorscale\":[[0.0,\"#0d0887\"],[0.1111111111111111,\"#46039f\"],[0.2222222222222222,\"#7201a8\"],[0.3333333333333333,\"#9c179e\"],[0.4444444444444444,\"#bd3786\"],[0.5555555555555556,\"#d8576b\"],[0.6666666666666666,\"#ed7953\"],[0.7777777777777778,\"#fb9f3a\"],[0.8888888888888888,\"#fdca26\"],[1.0,\"#f0f921\"]]}],\"surface\":[{\"type\":\"surface\",\"colorbar\":{\"outlinewidth\":0,\"ticks\":\"\"},\"colorscale\":[[0.0,\"#0d0887\"],[0.1111111111111111,\"#46039f\"],[0.2222222222222222,\"#7201a8\"],[0.3333333333333333,\"#9c179e\"],[0.4444444444444444,\"#bd3786\"],[0.5555555555555556,\"#d8576b\"],[0.6666666666666666,\"#ed7953\"],[0.7777777777777778,\"#fb9f3a\"],[0.8888888888888888,\"#fdca26\"],[1.0,\"#f0f921\"]]}],\"mesh3d\":[{\"type\":\"mesh3d\",\"colorbar\":{\"outlinewidth\":0,\"ticks\":\"\"}}],\"scatter\":[{\"fillpattern\":{\"fillmode\":\"overlay\",\"size\":10,\"solidity\":0.2},\"type\":\"scatter\"}],\"parcoords\":[{\"type\":\"parcoords\",\"line\":{\"colorbar\":{\"outlinewidth\":0,\"ticks\":\"\"}}}],\"scatterpolargl\":[{\"type\":\"scatterpolargl\",\"marker\":{\"colorbar\":{\"outlinewidth\":0,\"ticks\":\"\"}}}],\"bar\":[{\"error_x\":{\"color\":\"#2a3f5f\"},\"error_y\":{\"color\":\"#2a3f5f\"},\"marker\":{\"line\":{\"color\":\"#E5ECF6\",\"width\":0.5},\"pattern\":{\"fillmode\":\"overlay\",\"size\":10,\"solidity\":0.2}},\"type\":\"bar\"}],\"scattergeo\":[{\"type\":\"scattergeo\",\"marker\":{\"colorbar\":{\"outlinewidth\":0,\"ticks\":\"\"}}}],\"scatterpolar\":[{\"type\":\"scatterpolar\",\"marker\":{\"colorbar\":{\"outlinewidth\":0,\"ticks\":\"\"}}}],\"histogram\":[{\"marker\":{\"pattern\":{\"fillmode\":\"overlay\",\"size\":10,\"solidity\":0.2}},\"type\":\"histogram\"}],\"scattergl\":[{\"type\":\"scattergl\",\"marker\":{\"colorbar\":{\"outlinewidth\":0,\"ticks\":\"\"}}}],\"scatter3d\":[{\"type\":\"scatter3d\",\"line\":{\"colorbar\":{\"outlinewidth\":0,\"ticks\":\"\"}},\"marker\":{\"colorbar\":{\"outlinewidth\":0,\"ticks\":\"\"}}}],\"scattermapbox\":[{\"type\":\"scattermapbox\",\"marker\":{\"colorbar\":{\"outlinewidth\":0,\"ticks\":\"\"}}}],\"scatterternary\":[{\"type\":\"scatterternary\",\"marker\":{\"colorbar\":{\"outlinewidth\":0,\"ticks\":\"\"}}}],\"scattercarpet\":[{\"type\":\"scattercarpet\",\"marker\":{\"colorbar\":{\"outlinewidth\":0,\"ticks\":\"\"}}}],\"carpet\":[{\"aaxis\":{\"endlinecolor\":\"#2a3f5f\",\"gridcolor\":\"white\",\"linecolor\":\"white\",\"minorgridcolor\":\"white\",\"startlinecolor\":\"#2a3f5f\"},\"baxis\":{\"endlinecolor\":\"#2a3f5f\",\"gridcolor\":\"white\",\"linecolor\":\"white\",\"minorgridcolor\":\"white\",\"startlinecolor\":\"#2a3f5f\"},\"type\":\"carpet\"}],\"table\":[{\"cells\":{\"fill\":{\"color\":\"#EBF0F8\"},\"line\":{\"color\":\"white\"}},\"header\":{\"fill\":{\"color\":\"#C8D4E3\"},\"line\":{\"color\":\"white\"}},\"type\":\"table\"}],\"barpolar\":[{\"marker\":{\"line\":{\"color\":\"#E5ECF6\",\"width\":0.5},\"pattern\":{\"fillmode\":\"overlay\",\"size\":10,\"solidity\":0.2}},\"type\":\"barpolar\"}],\"pie\":[{\"automargin\":true,\"type\":\"pie\"}]},\"layout\":{\"autotypenumbers\":\"strict\",\"colorway\":[\"#636efa\",\"#EF553B\",\"#00cc96\",\"#ab63fa\",\"#FFA15A\",\"#19d3f3\",\"#FF6692\",\"#B6E880\",\"#FF97FF\",\"#FECB52\"],\"font\":{\"color\":\"#2a3f5f\"},\"hovermode\":\"closest\",\"hoverlabel\":{\"align\":\"left\"},\"paper_bgcolor\":\"white\",\"plot_bgcolor\":\"#E5ECF6\",\"polar\":{\"bgcolor\":\"#E5ECF6\",\"angularaxis\":{\"gridcolor\":\"white\",\"linecolor\":\"white\",\"ticks\":\"\"},\"radialaxis\":{\"gridcolor\":\"white\",\"linecolor\":\"white\",\"ticks\":\"\"}},\"ternary\":{\"bgcolor\":\"#E5ECF6\",\"aaxis\":{\"gridcolor\":\"white\",\"linecolor\":\"white\",\"ticks\":\"\"},\"baxis\":{\"gridcolor\":\"white\",\"linecolor\":\"white\",\"ticks\":\"\"},\"caxis\":{\"gridcolor\":\"white\",\"linecolor\":\"white\",\"ticks\":\"\"}},\"coloraxis\":{\"colorbar\":{\"outlinewidth\":0,\"ticks\":\"\"}},\"colorscale\":{\"sequential\":[[0.0,\"#0d0887\"],[0.1111111111111111,\"#46039f\"],[0.2222222222222222,\"#7201a8\"],[0.3333333333333333,\"#9c179e\"],[0.4444444444444444,\"#bd3786\"],[0.5555555555555556,\"#d8576b\"],[0.6666666666666666,\"#ed7953\"],[0.7777777777777778,\"#fb9f3a\"],[0.8888888888888888,\"#fdca26\"],[1.0,\"#f0f921\"]],\"sequentialminus\":[[0.0,\"#0d0887\"],[0.1111111111111111,\"#46039f\"],[0.2222222222222222,\"#7201a8\"],[0.3333333333333333,\"#9c179e\"],[0.4444444444444444,\"#bd3786\"],[0.5555555555555556,\"#d8576b\"],[0.6666666666666666,\"#ed7953\"],[0.7777777777777778,\"#fb9f3a\"],[0.8888888888888888,\"#fdca26\"],[1.0,\"#f0f921\"]],\"diverging\":[[0,\"#8e0152\"],[0.1,\"#c51b7d\"],[0.2,\"#de77ae\"],[0.3,\"#f1b6da\"],[0.4,\"#fde0ef\"],[0.5,\"#f7f7f7\"],[0.6,\"#e6f5d0\"],[0.7,\"#b8e186\"],[0.8,\"#7fbc41\"],[0.9,\"#4d9221\"],[1,\"#276419\"]]},\"xaxis\":{\"gridcolor\":\"white\",\"linecolor\":\"white\",\"ticks\":\"\",\"title\":{\"standoff\":15},\"zerolinecolor\":\"white\",\"automargin\":true,\"zerolinewidth\":2},\"yaxis\":{\"gridcolor\":\"white\",\"linecolor\":\"white\",\"ticks\":\"\",\"title\":{\"standoff\":15},\"zerolinecolor\":\"white\",\"automargin\":true,\"zerolinewidth\":2},\"scene\":{\"xaxis\":{\"backgroundcolor\":\"#E5ECF6\",\"gridcolor\":\"white\",\"linecolor\":\"white\",\"showbackground\":true,\"ticks\":\"\",\"zerolinecolor\":\"white\",\"gridwidth\":2},\"yaxis\":{\"backgroundcolor\":\"#E5ECF6\",\"gridcolor\":\"white\",\"linecolor\":\"white\",\"showbackground\":true,\"ticks\":\"\",\"zerolinecolor\":\"white\",\"gridwidth\":2},\"zaxis\":{\"backgroundcolor\":\"#E5ECF6\",\"gridcolor\":\"white\",\"linecolor\":\"white\",\"showbackground\":true,\"ticks\":\"\",\"zerolinecolor\":\"white\",\"gridwidth\":2}},\"shapedefaults\":{\"line\":{\"color\":\"#2a3f5f\"}},\"annotationdefaults\":{\"arrowcolor\":\"#2a3f5f\",\"arrowhead\":0,\"arrowwidth\":1},\"geo\":{\"bgcolor\":\"white\",\"landcolor\":\"#E5ECF6\",\"subunitcolor\":\"white\",\"showland\":true,\"showlakes\":true,\"lakecolor\":\"white\"},\"title\":{\"x\":0.05},\"mapbox\":{\"style\":\"light\"}}},\"xaxis\":{\"anchor\":\"y\",\"domain\":[0.0,1.0],\"title\":{\"text\":\"Program\"},\"categoryorder\":\"array\",\"categoryarray\":[\"general\",\"vocation\",\"academic\"]},\"yaxis\":{\"anchor\":\"x\",\"domain\":[0.0,1.0],\"title\":{\"text\":\"Math Scores\"}},\"legend\":{\"title\":{\"text\":\"prog\"},\"tracegroupgap\":0},\"title\":{\"text\":\"Boxplot of Math Scores by Program\"},\"boxmode\":\"overlay\"},                        {\"responsive\": true}                    ).then(function(){\n",
              "                            \n",
              "var gd = document.getElementById('49b2def5-9385-4255-9d73-f1ae94ee62f3');\n",
              "var x = new MutationObserver(function (mutations, observer) {{\n",
              "        var display = window.getComputedStyle(gd).display;\n",
              "        if (!display || display === 'none') {{\n",
              "            console.log([gd, 'removed!']);\n",
              "            Plotly.purge(gd);\n",
              "            observer.disconnect();\n",
              "        }}\n",
              "}});\n",
              "\n",
              "// Listen for the removal of the full notebook cells\n",
              "var notebookContainer = gd.closest('#notebook-container');\n",
              "if (notebookContainer) {{\n",
              "    x.observe(notebookContainer, {childList: true});\n",
              "}}\n",
              "\n",
              "// Listen for the clearing of the current output cell\n",
              "var outputEl = gd.closest('.output');\n",
              "if (outputEl) {{\n",
              "    x.observe(outputEl, {childList: true});\n",
              "}}\n",
              "\n",
              "                        })                };                            </script>        </div>\n",
              "</body>\n",
              "</html>"
            ]
          },
          "metadata": {}
        }
      ]
    },
    {
      "cell_type": "code",
      "source": [],
      "metadata": {
        "id": "l__Sm4Ia6Oml"
      },
      "execution_count": 16,
      "outputs": []
    },
    {
      "cell_type": "markdown",
      "source": [
        "*** Multivariate Analysis of Co-Variance (MANCOVA) ***"
      ],
      "metadata": {
        "id": "BmEnIGyQ6ZhD"
      }
    },
    {
      "cell_type": "code",
      "source": [
        "### MANCOVA Multivariate Analysis of Co-Variance\n",
        "import statsmodels.api as sm\n",
        "from statsmodels.multivariate.manova import MANOVA\n",
        "\n",
        "# Assuming df is your DataFrame\n",
        "mancova_data = df[['read', 'write', 'math', 'prog', 'ses']]\n",
        "\n",
        "# Fit MANCOVA model\n",
        "manova = MANOVA.from_formula('read + write + math ~ prog + ses', data=mancova_data)\n",
        "result = manova.mv_test()\n",
        "\n",
        "# Print the MANCOVA results\n",
        "print(result.summary())"
      ],
      "metadata": {
        "colab": {
          "base_uri": "https://localhost:8080/"
        },
        "id": "sXCq8XjJ6bZf",
        "outputId": "7945c331-20df-4e78-8167-91dc0e5e3e9e"
      },
      "execution_count": 17,
      "outputs": [
        {
          "output_type": "stream",
          "name": "stdout",
          "text": [
            "                   Multivariate linear model\n",
            "================================================================\n",
            "                                                                \n",
            "----------------------------------------------------------------\n",
            "       Intercept         Value  Num DF  Den DF   F Value  Pr > F\n",
            "----------------------------------------------------------------\n",
            "          Wilks' lambda  0.0519 3.0000 193.0000 1175.2048 0.0000\n",
            "         Pillai's trace  0.9481 3.0000 193.0000 1175.2048 0.0000\n",
            " Hotelling-Lawley trace 18.2674 3.0000 193.0000 1175.2048 0.0000\n",
            "    Roy's greatest root 18.2674 3.0000 193.0000 1175.2048 0.0000\n",
            "----------------------------------------------------------------\n",
            "                                                                \n",
            "----------------------------------------------------------------\n",
            "             prog          Value  Num DF  Den DF  F Value Pr > F\n",
            "----------------------------------------------------------------\n",
            "             Wilks' lambda 0.7677 6.0000 386.0000  9.0918 0.0000\n",
            "            Pillai's trace 0.2331 6.0000 388.0000  8.5292 0.0000\n",
            "    Hotelling-Lawley trace 0.3017 6.0000 255.5633  9.6785 0.0000\n",
            "       Roy's greatest root 0.2984 3.0000 194.0000 19.2992 0.0000\n",
            "----------------------------------------------------------------\n",
            "                                                                \n",
            "----------------------------------------------------------------\n",
            "             ses           Value  Num DF  Den DF  F Value Pr > F\n",
            "----------------------------------------------------------------\n",
            "             Wilks' lambda 0.9391 6.0000 386.0000  2.0540 0.0578\n",
            "            Pillai's trace 0.0611 6.0000 388.0000  2.0371 0.0599\n",
            "    Hotelling-Lawley trace 0.0647 6.0000 255.5633  2.0761 0.0565\n",
            "       Roy's greatest root 0.0620 3.0000 194.0000  4.0099 0.0085\n",
            "================================================================\n",
            "\n"
          ]
        }
      ]
    }
  ]
}